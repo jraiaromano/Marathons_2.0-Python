{
 "cells": [
  {
   "cell_type": "code",
   "execution_count": 54,
   "metadata": {},
   "outputs": [],
   "source": [
    "import requests\n",
    "from bs4 import BeautifulSoup as BS\n",
    "import pandas as pd\n",
    "import pickle"
   ]
  },
  {
   "cell_type": "markdown",
   "metadata": {},
   "source": [
    "I am going to scrape all the data and then pickle it"
   ]
  },
  {
   "cell_type": "code",
   "execution_count": 55,
   "metadata": {},
   "outputs": [],
   "source": [
    "pages_2016M = 154\n",
    "pages_2017M = 147\n",
    "pages_2018M = 85\n",
    "pages_2019M = 113\n",
    "pages_2016HM = 898\n",
    "pages_2017HM = 892\n",
    "pages_2018HM = 598\n",
    "pages_2019HM = 690"
   ]
  },
  {
   "cell_type": "code",
   "execution_count": 56,
   "metadata": {},
   "outputs": [],
   "source": [
    "urlbase_2019 = 'https://www.runrocknroll.com/Events/Nashville/The-Races/Marathon/2019-Results?gender=&agegroup=&bib=&firstname=&lastname=&page='\n",
    "urlbase_2018 = 'https://www.runrocknroll.com/Events/Nashville/The-Races/Marathon/2018-Results?gender=&agegroup=&bib=&firstname=&lastname=&page='\n",
    "urlbase_2017 = 'https://www.runrocknroll.com/Events/Nashville/The-Races/Marathon/2017-Results?gender=&agegroup=&bib=&firstname=&lastname=&page='\n",
    "urlbase_2016 = 'https://www.runrocknroll.com/Events/Nashville/The-Races/Marathon/2016-Results?gender=&agegroup=&bib=&firstname=&lastname=&page='\n",
    "urlbase_half_2019 = 'https://www.runrocknroll.com/Events/Nashville/The-Races/Half-Marathon/2019-Results?gender=&agegroup=&bib=&firstname=&lastname=&page='\n",
    "urlbase_half_2018 = 'https://www.runrocknroll.com/Events/Nashville/The-Races/Half-Marathon/2018-Results?gender=&agegroup=&bib=&firstname=&lastname=&page='\n",
    "urlbase_half_2017 = 'https://www.runrocknroll.com/Events/Nashville/The-Races/Half-Marathon/2017-Results?gender=&agegroup=&bib=&firstname=&lastname=&page='\n",
    "urlbase_half_2016 = 'https://www.runrocknroll.com/Events/Nashville/The-Races/Half-Marathon/2016-Results?gender=&agegroup=&bib=&firstname=&lastname=&page='"
   ]
  },
  {
   "cell_type": "code",
   "execution_count": 57,
   "metadata": {},
   "outputs": [],
   "source": [
    "M2019 = pd.DataFrame(columns = ['Overall','Bib', 'Name', 'Time'])\n",
    "M2018 = pd.DataFrame(columns = ['Overall', 'Bib', 'Name', 'Time'])\n",
    "M2017 = pd.DataFrame(columns = ['Overall', 'Bib', 'Name', 'Time'])\n",
    "M2016 = pd.DataFrame(columns = ['Overall', 'Bib', 'Name', 'Time'])\n",
    "HM2019 = pd.DataFrame(columns = ['Overall', 'Bib', 'Name', 'Time'])\n",
    "HM2018 = pd.DataFrame(columns = ['Overall', 'Bib', 'Name', 'Time'])\n",
    "HM2017 = pd.DataFrame(columns = ['Overall', 'Bib', 'Name', 'Time'])\n",
    "HM2016 = pd.DataFrame(columns = ['Overall', 'Bib', 'Name', 'Time'])\n",
    "                      "
   ]
  },
  {
   "cell_type": "markdown",
   "metadata": {},
   "source": [
    "The steps to get a DataFrame from one page of results look like this:\n",
    "• Build a URL by combining the base url with a specific page number\n",
    "• Use requests.post() to get the results of the post\n",
    "• Make a soup from results.text\n",
    "• Look at the soup to identify the table you want based on one of its attributes (like\n",
    "class)\n",
    "• Pass the table as a string to pandas read_html()\n",
    "• What does that look like? What is the datatype?\n",
    "• Keep working with the data until you have it a DataFrame (check the type regularly)\n",
    "base + pages + empty dataframe\n",
    "add to the empty dataframe with merge or concat"
   ]
  },
  {
   "cell_type": "code",
   "execution_count": 23,
   "metadata": {},
   "outputs": [],
   "source": [
    "base = urlbase_2019\n",
    "page = 4\n",
    "url = base + str(page)"
   ]
  },
  {
   "cell_type": "code",
   "execution_count": 24,
   "metadata": {},
   "outputs": [
    {
     "data": {
      "text/plain": [
       "200"
      ]
     },
     "execution_count": 24,
     "metadata": {},
     "output_type": "execute_result"
    }
   ],
   "source": [
    "result = requests.post(url)\n",
    "soup = BS(result.text, 'lxml')\n",
    "result.status_code"
   ]
  },
  {
   "cell_type": "code",
   "execution_count": 25,
   "metadata": {},
   "outputs": [],
   "source": [
    "table = soup.find_all('table', attrs={'class':'table table-responsive table-bordered'})"
   ]
  },
  {
   "cell_type": "code",
   "execution_count": 26,
   "metadata": {},
   "outputs": [
    {
     "data": {
      "text/plain": [
       "list"
      ]
     },
     "execution_count": 26,
     "metadata": {},
     "output_type": "execute_result"
    }
   ],
   "source": [
    "results_list = (pd.read_html(str(table[0]))) #returns a list of dataframes\n",
    "type(results_list)\n"
   ]
  },
  {
   "cell_type": "markdown",
   "metadata": {},
   "source": [
    "how to get a list into a dataframe?"
   ]
  },
  {
   "cell_type": "code",
   "execution_count": 27,
   "metadata": {},
   "outputs": [],
   "source": [
    "df = results_list[0]\n",
    "#oh duh it *is* a dateframe. It's a list of dataframes. and really I only care about the first one. "
   ]
  },
  {
   "cell_type": "code",
   "execution_count": 28,
   "metadata": {},
   "outputs": [
    {
     "data": {
      "text/plain": [
       "pandas.core.frame.DataFrame"
      ]
     },
     "execution_count": 28,
     "metadata": {},
     "output_type": "execute_result"
    }
   ],
   "source": [
    "type(df)"
   ]
  },
  {
   "cell_type": "markdown",
   "metadata": {},
   "source": [
    "And now, the *FORMULA*"
   ]
  },
  {
   "cell_type": "code",
   "execution_count": 58,
   "metadata": {},
   "outputs": [],
   "source": [
    "def WS(base_url, pages, df):\n",
    "    #scrape data from one page of a webpage, soup it, read the HTML, find the table of results, convert it to a dataframe, \n",
    "    #and then add that dataframe for that one page to may empty dataframe I created to hold all those results.\n",
    "    for index in range(1, pages +1): \n",
    "        url = base_url + str(index)\n",
    "        result = requests.post(url)\n",
    "        soup = BS(result.text, 'lxml')\n",
    "        tables = soup.find_all('table', attrs={'class':'table table-responsive table-bordered'})\n",
    "        results_list = pd.read_html(str(tables[0]))\n",
    "        results_df = results_list[0]\n",
    "        df = pd.concat([df, results_df]) \n",
    "    return df "
   ]
  },
  {
   "cell_type": "code",
   "execution_count": 59,
   "metadata": {
    "scrolled": false
   },
   "outputs": [],
   "source": [
    "Marathon19 = WS(urlbase_2019, pages = pages_2019M, df = M2019)"
   ]
  },
  {
   "cell_type": "code",
   "execution_count": null,
   "metadata": {},
   "outputs": [],
   "source": [
    "Marathon19.to_pickle(\"data/Marathon19.pkl\")"
   ]
  },
  {
   "cell_type": "code",
   "execution_count": 61,
   "metadata": {},
   "outputs": [],
   "source": [
    "Marathon19.to_csv(\"data/Marathon19.csv\")"
   ]
  },
  {
   "cell_type": "code",
   "execution_count": 62,
   "metadata": {},
   "outputs": [],
   "source": [
    "Marathon18 = WS(urlbase_2018, pages = pages_2018M, df = M2018)"
   ]
  },
  {
   "cell_type": "code",
   "execution_count": 63,
   "metadata": {},
   "outputs": [],
   "source": [
    "Marathon18.to_pickle(\"data/Marathon18.pkl\")"
   ]
  },
  {
   "cell_type": "code",
   "execution_count": 64,
   "metadata": {},
   "outputs": [],
   "source": [
    "Marathon18.to_csv(\"data/Marathon18.csv\")"
   ]
  },
  {
   "cell_type": "code",
   "execution_count": 65,
   "metadata": {},
   "outputs": [],
   "source": [
    "Marathon17 = WS(urlbase_2017, pages = pages_2017M, df = M2017)"
   ]
  },
  {
   "cell_type": "code",
   "execution_count": 66,
   "metadata": {},
   "outputs": [],
   "source": [
    "Marathon17.to_pickle(\"data/Marathon17.pkl\")"
   ]
  },
  {
   "cell_type": "code",
   "execution_count": 67,
   "metadata": {},
   "outputs": [],
   "source": [
    "Marathon17.to_csv(\"data/Marathon17.csv\")"
   ]
  },
  {
   "cell_type": "code",
   "execution_count": 68,
   "metadata": {},
   "outputs": [],
   "source": [
    "Marathon16 = WS(urlbase_2016, pages = pages_2016M, df = M2016)"
   ]
  },
  {
   "cell_type": "code",
   "execution_count": 69,
   "metadata": {},
   "outputs": [],
   "source": [
    "Marathon16.to_pickle(\"data/Marathon16.pkl\")"
   ]
  },
  {
   "cell_type": "code",
   "execution_count": 70,
   "metadata": {},
   "outputs": [],
   "source": [
    "Marathon16.to_csv(\"data/Marathon16.csv\")"
   ]
  },
  {
   "cell_type": "code",
   "execution_count": 37,
   "metadata": {},
   "outputs": [],
   "source": [
    "HalfMarathon19 = WS(urlbase_half_2019, pages = pages_2019HM, df = HM2019)"
   ]
  },
  {
   "cell_type": "code",
   "execution_count": 38,
   "metadata": {},
   "outputs": [
    {
     "data": {
      "text/plain": [
       "(17236, 4)"
      ]
     },
     "execution_count": 38,
     "metadata": {},
     "output_type": "execute_result"
    }
   ],
   "source": [
    "HalfMarathon19.shape"
   ]
  },
  {
   "cell_type": "code",
   "execution_count": 39,
   "metadata": {},
   "outputs": [],
   "source": [
    "HalfMarathon18 = WS(urlbase_half_2018, pages = pages_2018HM, df = HM2018)"
   ]
  },
  {
   "cell_type": "code",
   "execution_count": 40,
   "metadata": {},
   "outputs": [
    {
     "data": {
      "text/plain": [
       "(14940, 4)"
      ]
     },
     "execution_count": 40,
     "metadata": {},
     "output_type": "execute_result"
    }
   ],
   "source": [
    "HalfMarathon18.shape"
   ]
  },
  {
   "cell_type": "code",
   "execution_count": 41,
   "metadata": {},
   "outputs": [],
   "source": [
    "HalfMarathon17 = WS(urlbase_half_2017, pages = pages_2017HM, df = HM2017)"
   ]
  },
  {
   "cell_type": "code",
   "execution_count": 42,
   "metadata": {},
   "outputs": [
    {
     "data": {
      "text/plain": [
       "(22292, 4)"
      ]
     },
     "execution_count": 42,
     "metadata": {},
     "output_type": "execute_result"
    }
   ],
   "source": [
    "HalfMarathon17.shape"
   ]
  },
  {
   "cell_type": "code",
   "execution_count": 46,
   "metadata": {},
   "outputs": [],
   "source": [
    "HalfMarathon16 = WS(urlbase_half_2016, pages = pages_2016HM, df = HM2016)"
   ]
  },
  {
   "cell_type": "code",
   "execution_count": 47,
   "metadata": {},
   "outputs": [
    {
     "data": {
      "text/plain": [
       "(22429, 4)"
      ]
     },
     "execution_count": 47,
     "metadata": {},
     "output_type": "execute_result"
    }
   ],
   "source": [
    "HalfMarathon16.shape"
   ]
  },
  {
   "cell_type": "code",
   "execution_count": null,
   "metadata": {},
   "outputs": [],
   "source": []
  }
 ],
 "metadata": {
  "kernelspec": {
   "display_name": "Python 3",
   "language": "python",
   "name": "python3"
  },
  "language_info": {
   "codemirror_mode": {
    "name": "ipython",
    "version": 3
   },
   "file_extension": ".py",
   "mimetype": "text/x-python",
   "name": "python",
   "nbconvert_exporter": "python",
   "pygments_lexer": "ipython3",
   "version": "3.7.3"
  }
 },
 "nbformat": 4,
 "nbformat_minor": 2
}
